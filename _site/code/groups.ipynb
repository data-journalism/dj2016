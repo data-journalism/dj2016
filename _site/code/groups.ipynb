{
 "cells": [
  {
   "cell_type": "markdown",
   "metadata": {},
   "source": [
    "#分组信息"
   ]
  },
  {
   "cell_type": "code",
   "execution_count": 39,
   "metadata": {
    "collapsed": false
   },
   "outputs": [
    {
     "data": {
      "text/plain": [
       "14"
      ]
     },
     "execution_count": 39,
     "metadata": {},
     "output_type": "execute_result"
    }
   ],
   "source": [
    "groups = {}\n",
    "\n",
    "groups['3L']= '王凌悦 134056035 新闻选题 ps ,李攀 141050039 新闻选题 H5 ,常亮 134056026 新闻选题 设计'\n",
    "groups['DJ-HIGH']='新闻传播学院 姚祎婷 141050086——新闻选题，设计 薛无霜 141050084——新闻选题，设计 赵相熙 125050015（韩国留学生）——新闻选题 软件学院 陈飞 141250009——编程'\n",
    "groups['desert']='王方圆\t134056013\t新闻选题 郑昊\t134056009\t新闻选题 高菲\t134056025\t编程'\n",
    "groups['kcll']='陈悦祯14105000ps新闻采写 李婧雅141050037新闻采写新闻选题 孔舒越121190039psaidw新闻采写 木叶沙·斯来曼141050050新闻采写 李丽阁141099050C语言入门级选手 黄浩134056004新闻选题'\n",
    "groups['luckylucky7']='陈天琦 134056018 擅长新闻选题和PS • 潘虹 134056033 擅长新闻选题和PS • 邓照元 134056021 擅长新闻选题和程序'\n",
    "groups['伍仁组']='方婕妤 141050016——提出选题，h5 费瑶 141050017——提出选题，ps 杜莹 141050015——提出选题 韩瑜 141050021——提出选题 徐晓玥 131250010——Ps，程序'\n",
    "groups['学沫联盟']='新传院134056023张馨文（新闻选题）134056003宋敏慧（会点PS）134056002王倩倩（新闻选题)134056011顾媛媛（编程 会点ps）'\n",
    "groups['小黄人']='141050092 赵敏 新闻传播学院 新闻选题 141050087 尹联 新闻传播学院 新闻选题 141060032 陆劲竹 政府管理学院 PS 141050094 周恩培 新闻传播学院 新闻选题 141090057 姜婉钰 商学院 新闻选题'\n",
    "groups['底线五人组']='夏卿 134056031：新闻选题 生刘婧 134056037：新闻选题 周丹 134056024：新闻选题 吴沁桦 134056005：新闻选题和设计 夏雪晴 134056030：新闻选题和编程'\n",
    "groups['我没说话']='134056001 陈诚：新闻选题 设计 134056027 王恒灿：新闻选题 编程 134056022 杨春：新闻选题 134056014 李梦秋：新闻选题'\n",
    "groups['李易峰太太团']='刘一霖\t141050047\t选题\t新闻学院 朱文婷\t141050097\t选题、设计\t新闻学院 黎佳瑜\t141050035\t设计\t新闻学院 胡兰兰\t141050024\t编程\t新闻学院 封蓉\t111292007\t编程、设计\t规划设计'\n",
    "groups['睡不够天团']='庄一玮 134056007 选题 设计 谢熙瑶 134056017 选题 编程 徐群 134056008 新闻选题'\n",
    "groups['逼格小分队']='葛静妮 134056029 擅长新闻选题和编程 邵子怡 141050056 擅长新闻选题 王艺轩 141050068 擅长新闻选题 蒋 超 141020017 擅长新闻选题 邵曰义 141050055 擅长新闻选题和PS'\n",
    "groups['靠谱？小组']='熊    烨\t134056015\t新闻选题 PS 禹    淅\t134056032\t编程 杨    雨\t134056028\t新闻选题 周秋芸\t134056020\t新闻选题 丁弘扬\t134056010\tPS'\n",
    "\n",
    "len(groups)"
   ]
  },
  {
   "cell_type": "code",
   "execution_count": 30,
   "metadata": {
    "collapsed": false
   },
   "outputs": [
    {
     "name": "stdout",
     "output_type": "stream",
     "text": [
      "DJ-HIGH\n",
      "睡不够天团\n",
      "李易峰太太团\n",
      "靠谱？小组\n",
      "伍仁组\n",
      "小黄人\n",
      "luckylucky7\n",
      "我没说话\n",
      "底线五人组\n",
      "学沫联盟\n",
      "kcll\n",
      "3L\n",
      "desert\n",
      "逼格小分队\n"
     ]
    }
   ],
   "source": [
    "for i in groups:\n",
    "    print i"
   ]
  },
  {
   "cell_type": "markdown",
   "metadata": {},
   "source": [
    "#小组次序"
   ]
  },
  {
   "cell_type": "code",
   "execution_count": 46,
   "metadata": {
    "collapsed": false
   },
   "outputs": [
    {
     "name": "stdout",
     "output_type": "stream",
     "text": [
      "1 睡不够天团\n",
      "2 我没说话\n",
      "3 3L\n",
      "4 底线五人组\n",
      "5 desert\n",
      "6 伍仁组\n",
      "7 kcll\n",
      "8 逼格小分队\n",
      "9 DJ-HIGH\n",
      "10 luckylucky7\n",
      "11 李易峰太太团\n",
      "12 学沫联盟\n",
      "13 靠谱？小组\n",
      "14 小黄人\n"
     ]
    }
   ],
   "source": [
    "import random\n",
    "random.seed(20150924)\n",
    "sequence = random.sample(groups.keys(), 14)\n",
    "for i,j in enumerate(sequence):\n",
    "    print i+1,j"
   ]
  },
  {
   "cell_type": "code",
   "execution_count": null,
   "metadata": {
    "collapsed": true
   },
   "outputs": [],
   "source": [
    "grouplist = [i, i, for i in group.keys()]\n"
   ]
  },
  {
   "cell_type": "code",
   "execution_count": 81,
   "metadata": {
    "collapsed": false
   },
   "outputs": [
    {
     "name": "stdout",
     "output_type": "stream",
     "text": [
      "1 3L  &  学沫联盟\n",
      "2 睡不够天团  &  逼格小分队\n",
      "3 靠谱？小组  &  小黄人\n",
      "4 kcll  &  luckylucky7\n",
      "5 底线五人组  &  李易峰太太团\n",
      "6 desert  &  我没说话\n",
      "7 DJ-HIGH  &  伍仁组\n"
     ]
    }
   ],
   "source": [
    "import random\n",
    "random.seed(20151024)\n",
    "  \n",
    "sequence = random.sample(groups.keys(), 14)\n",
    "num = 0\n",
    "for i,k in zip(sequence[0::2], sequence[1::2]):\n",
    "    num+=1\n",
    "    print num, i,' & ', k"
   ]
  },
  {
   "cell_type": "code",
   "execution_count": 82,
   "metadata": {
    "collapsed": false
   },
   "outputs": [
    {
     "name": "stdout",
     "output_type": "stream",
     "text": [
      "1 DJ-HIGH  &  伍仁组\n",
      "2 desert  &  我没说话\n",
      "3 底线五人组  &  李易峰太太团\n",
      "4 kcll  &  luckylucky7\n",
      "5 靠谱？小组  &  小黄人\n",
      "6 睡不够天团  &  逼格小分队\n",
      "7 3L  &  学沫联盟\n"
     ]
    }
   ],
   "source": [
    "num = 0\n",
    "for i,k in reversed(zip(sequence[0::2], sequence[1::2])):\n",
    "    num+=1\n",
    "    print num, i,' & ', k"
   ]
  },
  {
   "cell_type": "code",
   "execution_count": 84,
   "metadata": {
    "collapsed": false
   },
   "outputs": [
    {
     "name": "stdout",
     "output_type": "stream",
     "text": [
      "1 伍仁组\n",
      "2 DJ-HIGH\n",
      "3 我没说话\n",
      "4 desert\n",
      "5 李易峰太太团\n",
      "6 底线五人组\n",
      "7 luckylucky7\n",
      "8 kcll\n",
      "9 小黄人\n",
      "10 靠谱？小组\n",
      "11 逼格小分队\n",
      "12 睡不够天团\n",
      "13 学沫联盟\n",
      "14 3L\n"
     ]
    }
   ],
   "source": [
    "for i,j in enumerate(reversed(sequence)):\n",
    "    print i+1,j"
   ]
  },
  {
   "cell_type": "code",
   "execution_count": null,
   "metadata": {
    "collapsed": true
   },
   "outputs": [],
   "source": []
  }
 ],
 "metadata": {
  "kernelspec": {
   "display_name": "Python 2",
   "language": "python",
   "name": "python2"
  },
  "language_info": {
   "codemirror_mode": {
    "name": "ipython",
    "version": 2
   },
   "file_extension": ".py",
   "mimetype": "text/x-python",
   "name": "python",
   "nbconvert_exporter": "python",
   "pygments_lexer": "ipython2",
   "version": "2.7.10"
  }
 },
 "nbformat": 4,
 "nbformat_minor": 0
}
